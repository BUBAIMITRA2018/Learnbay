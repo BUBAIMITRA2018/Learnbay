{
 "cells": [
  {
   "cell_type": "code",
   "execution_count": 1,
   "metadata": {},
   "outputs": [
    {
     "name": "stdout",
     "output_type": "stream",
     "text": [
      "User input is Eight\n",
      "User input is output of range\n"
     ]
    }
   ],
   "source": [
    "\"\"\" Q. W. A P. which takes one number from 0 to 9 from the user and prints\n",
    "it in the word. And if the word is not from 0 to 9 then\n",
    "it should print that number is outside of the range and program should \"\"\"\n",
    "\n",
    "number = {1:\"one\",2:\"two\",3:\"three\",4:\"Four\",5:\"Five\",6:\"six\",7:\"Seven\",8:\"Eight\",9:\"nine\"}\n",
    "\n",
    "while True :\n",
    "    userinput = int(input(\"Please type your number\"))  \n",
    "\n",
    "\n",
    "    if(userinput < 10):\n",
    "        print(f\"User input is {number[userinput] }\")   \n",
    "        \n",
    "    else:\n",
    "        print(f\"User input is output of range\")\n",
    "        break\n",
    "\n"
   ]
  },
  {
   "cell_type": "code",
   "execution_count": null,
   "metadata": {},
   "outputs": [],
   "source": []
  },
  {
   "cell_type": "code",
   "execution_count": 2,
   "metadata": {},
   "outputs": [
    {
     "name": "stdout",
     "output_type": "stream",
     "text": [
      "0.875\n",
      "15\n",
      "0\n",
      "-1\n",
      "56\n",
      "56\n",
      "5764801\n",
      "5764801\n"
     ]
    }
   ],
   "source": [
    "\"\"\" Q. W. A P. to implement calculator but the operation to be done and two\n",
    "numbers will be taken as input from user:-\n",
    "Operation console should show below:-\n",
    " Please select any one operation from below:-\n",
    " * To add enter 1\n",
    " * to subtract enter 2\n",
    " * To multiply enter 3\n",
    " * To divide enter 4\n",
    " * To divide and find quotient enter 5\n",
    " * To divide and find remainder enter 6\n",
    " * To divide and find num1 to the power of num2 enter 7\n",
    " * To Come out of the program enter 8 \"\"\"\n",
    "\n",
    "\n",
    "a = int(input(\"Please type your first number\"))\n",
    "b = int(input(\"Please type your second number\"))\n",
    "\n",
    "while(True):\n",
    "    operation = int(input(\"Please type your choice!\"))\n",
    "    if operation != 8:\n",
    "        output =  a+b if operation == 1 else a-b if operation == 2 else a * b \\\n",
    "        if operation == 3 else a/b if operation == 4  else (a // b) \\\n",
    "        if operation == 5 else (a % b) if operation == 6 else pow(a, b) if operation == 7 else exit(0)\n",
    "        print(output) \n",
    "    else:\n",
    "        break\n"
   ]
  },
  {
   "cell_type": "code",
   "execution_count": 7,
   "metadata": {},
   "outputs": [
    {
     "name": "stdout",
     "output_type": "stream",
     "text": [
      "It is not a leap year\n"
     ]
    }
   ],
   "source": [
    "# Q. W A P to check whether a year entered by user is an leap year or not?\n",
    "# Check with below input:-\n",
    "#  leap year:- 2012, 1968, 2004, 1200, 1600,2400\n",
    "#  Non-lear year:- 1971, 2006, 1700,1800,1900\n",
    "\n",
    "leapyear = [2012, 1968, 2004, 1200, 1600,2400]\n",
    "nonleapyear = [1971, 2006, 1700,1800,1900]\n",
    "\n",
    "useryear = int(input(\"Please select the year\"))\n",
    "\n",
    "print(f\"It is a leap year\") if leapyear.__contains__(useryear) else print(f\"It is not a leap year\") \\\n",
    "if nonleapyear.__contains__(useryear) else print(f\"User input is wrong\")\n"
   ]
  },
  {
   "cell_type": "code",
   "execution_count": 8,
   "metadata": {},
   "outputs": [
    {
     "name": "stdout",
     "output_type": "stream",
     "text": [
      "your number is odd\n"
     ]
    }
   ],
   "source": [
    "\"\"\" Q. W A P which takes one number from the user and checks whether it is\n",
    "an even or odd number?, If it even then prints number is\n",
    "even number else prints that number is odd number. \"\"\"\n",
    "\n",
    "userinput = int(input(\"Please type your number\"))\n",
    "print(f\"your number is even\") if (userinput % 2) == 0 else print(f\"your number is odd\")\n"
   ]
  },
  {
   "cell_type": "code",
   "execution_count": 11,
   "metadata": {},
   "outputs": [
    {
     "name": "stdout",
     "output_type": "stream",
     "text": [
      "\n",
      "\n",
      "6 is equal 6\n"
     ]
    }
   ],
   "source": [
    "\"\"\" Q. W A P which takes two numbers from the user and prints below output:-\n",
    " 1. num1 is greater than num2 if num1 is greater than num2\n",
    " 2. num1 is smaller than num2 if num1 is smaller than num2\n",
    " 3. num1 is equal to num2 if num1 and num2 are equal \"\"\"\n",
    "\n",
    "\n",
    "num1= int(input(\"Please type your first number\"))\n",
    "num2 = int(input(\"Please type your second number\"))\n",
    "\n",
    "print(f\"{num1} is greater than {num2}\") if num1 > num2 else print()\n",
    "print(f\"{num1} is smaller than {num2}\") if num1 < num2 else print()\n",
    "print(f\"{num1} is equal {num2}\") if num1 is num2 else print()\n"
   ]
  },
  {
   "cell_type": "code",
   "execution_count": 12,
   "metadata": {},
   "outputs": [
    {
     "name": "stdout",
     "output_type": "stream",
     "text": [
      "\n",
      "87 is greater than 4 and 3\n",
      "\n"
     ]
    }
   ],
   "source": [
    "\"\"\" Q. W A P which takes three numbers from the user and prints below\n",
    "output:-\n",
    " 1. num1 is greater than num2 and num3 if num1 is greater than num2\n",
    "and num3\n",
    " 2. num2 is greater than num1 and num3 if num2 is greater than num1\n",
    "and num3\n",
    " 3. num3 is greater than num1 and num2 if num3 is greater than num1\n",
    "and num2 \"\"\"\n",
    "\n",
    "num1= int(input(\"Please type your first number\"))\n",
    "num2 = int(input(\"Please type your second number\"))\n",
    "num3 = int(input(\"Please type your third number\"))\n",
    "\n",
    "print(f\"{num1} is greater than {num2} and {num2}\") if ((num1 > num2) and (num1 > num3))  else print()\n",
    "print(f\"{num2} is greater than {num1} and {num3}\") if ((num2 > num3) and (num2 > num1))  else print()\n",
    "print(f\"{num3} is greater than {num1} and {num2}\") if ((num3 > num1) and (num3 > num2))  else print()\n",
    "\n",
    "\n"
   ]
  },
  {
   "cell_type": "code",
   "execution_count": 13,
   "metadata": {},
   "outputs": [
    {
     "name": "stdout",
     "output_type": "stream",
     "text": [
      "55\n"
     ]
    }
   ],
   "source": [
    "\"\"\" Q. Write a Python program to find the length of the my_str using loop:-\n",
    "Input:- 'Write a Python program to find the length of the my_str'\n",
    "Output:- 55 \"\"\"\n",
    "\n",
    "counter = 0\n",
    "for c in \"Write a Python program to find the length of the my_str\": \n",
    "    counter+=1 \n",
    "print (counter)"
   ]
  },
  {
   "cell_type": "code",
   "execution_count": 14,
   "metadata": {},
   "outputs": [
    {
     "data": {
      "text/plain": [
       "9"
      ]
     },
     "execution_count": 14,
     "metadata": {},
     "output_type": "execute_result"
    }
   ],
   "source": [
    "# Write a Python program to find the total number of times letter 'p'\n",
    "# is appeared in the below string using loop:-\n",
    "\n",
    "# Input:- 'peter piper picked a peck of pickled peppers.\\n'\n",
    "# Output:- 9\n",
    "\n",
    "str = 'peter piper picked a peck of pickled peppers.\\n'\n",
    "str.count('p')"
   ]
  },
  {
   "cell_type": "code",
   "execution_count": 17,
   "metadata": {},
   "outputs": [
    {
     "name": "stdout",
     "output_type": "stream",
     "text": [
      "index of p = 0\n",
      "index of p = 6\n",
      "index of p = 8\n",
      "index of p = 12\n",
      "index of p = 21\n",
      "index of p = 29\n",
      "index of p = 37\n",
      "index of p = 39\n",
      "index of p = 40\n"
     ]
    }
   ],
   "source": [
    "# Q. Write a Python Program, to print all the indexes of all occurences of\n",
    "# letter 'p' appeared in the string using loop:-\n",
    "str = 'peter piper picked a peck of pickled peppers.\\n'\n",
    "for index,char in enumerate(str):\n",
    "    print(f\"index of p = {index}\") if char == 'p' else exit"
   ]
  },
  {
   "cell_type": "code",
   "execution_count": 26,
   "metadata": {},
   "outputs": [
    {
     "name": "stdout",
     "output_type": "stream",
     "text": [
      "['peter', 'piper', 'picked', 'a', 'peck', 'of', 'pickled', 'peppers']\n"
     ]
    }
   ],
   "source": [
    "\"\"\" Q. Write a python program to find below output using loop:-\n",
    "Input:- 'peter piper picked a peck of pickled peppers.'\n",
    "Output:- ['peter', 'piper', 'picked', 'a', 'peck', 'of', 'pickled',\n",
    "'peppers'] \"\"\"\n",
    "\n",
    "str = 'peter piper picked a peck of pickled peppers.'\n",
    "str = str.strip('.')\n",
    "list_char = []\n",
    "for item in str.rsplit(\" \"):    \n",
    "    list_char.append(item)\n",
    "print(list_char)\n",
    "\n",
    "   "
   ]
  },
  {
   "cell_type": "code",
   "execution_count": 3,
   "metadata": {},
   "outputs": [
    {
     "name": "stdout",
     "output_type": "stream",
     "text": [
      " peppers pickled of peck a picked piper peter\n"
     ]
    }
   ],
   "source": [
    "# Q. Write a python program to find below output using loop:-\n",
    "# Input:- 'peter piper picked a peck of pickled peppers.'\n",
    "# Output:- 'peppers pickled of peck a picked piper peter'\n",
    "\n",
    "str = 'peter piper picked a peck of pickled peppers.'\n",
    "str = str.strip('.')\n",
    "str_array = str.split(\" \")\n",
    "str_length = str_array.__len__() - 1\n",
    "out_str = \"\"\n",
    "while(str_length >= 0):    \n",
    "    out_str = out_str +\" \" +str_array[str_length]\n",
    "    str_length = str_length -1\n",
    "\n",
    "out_str.strip()\n",
    "print(out_str)\n"
   ]
  },
  {
   "cell_type": "code",
   "execution_count": 4,
   "metadata": {},
   "outputs": [
    {
     "name": "stdout",
     "output_type": "stream",
     "text": [
      " .sreppep delkcip fo kcep a dekcip repip retep\n"
     ]
    }
   ],
   "source": [
    "\"\"\" Q. Write a python program to find below output using loop:-\n",
    "Input:- 'peter piper picked a peck of pickled peppers.'\n",
    "Output:- '.sreppep delkcip fo kcep a dekcip repip retep' \"\"\"\n",
    "\n",
    "str = 'peter piper picked a peck of pickled peppers.'\n",
    "str_array = str.split(\" \")\n",
    "str_length = str_array.__len__() - 1\n",
    "out_str = \"\"\n",
    "while(str_length >= 0):\n",
    "    str_array[str_length] =  str_array[str_length][::-1]   \n",
    "    out_str = out_str +\" \" +str_array[str_length]\n",
    "    str_length = str_length -1\n",
    "\n",
    "out_str.strip()\n",
    "print(out_str)\n"
   ]
  },
  {
   "cell_type": "code",
   "execution_count": 12,
   "metadata": {},
   "outputs": [
    {
     "name": "stdout",
     "output_type": "stream",
     "text": [
      " retep repip dekcip a kcep fo delkcip sreppep\n"
     ]
    }
   ],
   "source": [
    "\"\"\" Q. Write a python program to find below output using loop:-\n",
    "Input:- 'peter piper picked a peck of pickled peppers.'\n",
    "Output:- 'retep repip dekcip a kcep fo delkcip sreppep' \"\"\"\n",
    "\n",
    "str = 'peter piper picked a peck of pickled peppers.'\n",
    "str = str.strip('.')\n",
    "str_array = str.split(\" \")\n",
    "str_length = 0\n",
    "out_str = \"\"\n",
    "while(str_length <= 7):\n",
    "    str_array[str_length] =  str_array[str_length][::-1]     \n",
    "    out_str = out_str +\" \" +str_array[str_length]\n",
    "    str_length = str_length +1\n",
    "\n",
    "out_str.strip()\n",
    "print(out_str)\n"
   ]
  },
  {
   "cell_type": "code",
   "execution_count": 16,
   "metadata": {},
   "outputs": [
    {
     "name": "stdout",
     "output_type": "stream",
     "text": [
      " Peter Piper Picked A Peck Of Pickled Peppers\n"
     ]
    }
   ],
   "source": [
    "\"\"\" Q. Write a python program to find below output using loop:-\n",
    "Input:- 'peter piper picked a peck of pickled peppers.'\n",
    "Output:- 'Peter Piper Picked A Peck Of Pickled Peppers' \"\"\"\n",
    "\n",
    "str = 'peter piper picked a peck of pickled peppers.'\n",
    "str = str.strip('.')\n",
    "str_array = str.split(\" \")\n",
    "\n",
    "str_length = 0\n",
    "out_str = \"\"\n",
    "while(str_length <= 7):\n",
    "    str_array[str_length] = str_array[str_length].capitalize()   \n",
    "    out_str = out_str +\" \" +str_array[str_length]\n",
    "    str_length = str_length +1\n",
    "\n",
    "out_str.strip()\n",
    "print(out_str)\n"
   ]
  },
  {
   "cell_type": "code",
   "execution_count": 17,
   "metadata": {},
   "outputs": [
    {
     "name": "stdout",
     "output_type": "stream",
     "text": [
      " peter piper picked a peck of pickled peppers\n"
     ]
    }
   ],
   "source": [
    "# Q. Write a python program to find below output using loop:-\n",
    "# Input:- 'Peter Piper Picked A Peck Of Pickled Peppers.'\n",
    "# Output:- 'Peter piper picked a peck of pickled peppers'\n",
    "\n",
    "str = 'Peter Piper Picked A Peck Of Pickled Peppers.'\n",
    "str = str.strip('.')\n",
    "str_array = str.split(\" \")\n",
    "str_length = 0\n",
    "out_str = \"\"\n",
    "while(str_length <= 7):\n",
    "    str_array[str_length] = str_array[str_length].lower()  \n",
    "    out_str = out_str +\" \" +str_array[str_length]\n",
    "    str_length = str_length +1\n",
    "\n",
    "out_str.strip()\n",
    "print(out_str)\n",
    "\n"
   ]
  },
  {
   "cell_type": "code",
   "execution_count": 18,
   "metadata": {},
   "outputs": [
    {
     "data": {
      "text/plain": [
       "29"
      ]
     },
     "execution_count": 18,
     "metadata": {},
     "output_type": "execute_result"
    }
   ],
   "source": [
    "\"\"\" Q. Write a python program to implement index method using loop. If\n",
    "sub_str is found in my_str then it will print the index\n",
    "of first occurrence of first character of matching string in my_str:-\n",
    "Input:- my_str = 'Peter Piper Picked A Peck Of Pickled Peppers.',\n",
    "sub_str = 'Pickl'\n",
    "Output:- 29 \"\"\"\n",
    "\n",
    "my_str = 'Peter Piper Picked A Peck Of Pickled Peppers.'\n",
    "sub_str = 'Pickl'\n",
    "my_str.index('Pickl')\n"
   ]
  },
  {
   "cell_type": "code",
   "execution_count": 21,
   "metadata": {},
   "outputs": [
    {
     "name": "stdout",
     "output_type": "stream",
     "text": [
      "Peter Piper Picked A Pack Of Pickled Peppers.\n"
     ]
    }
   ],
   "source": [
    "\"\"\" Q. Write a python program to implement replace method using loop. If\n",
    "sub_str is found in my_str then it will replace the first\n",
    "occurrence of sub_str with new_str else it will will print sub_str not\n",
    "found:- \"\"\"\n",
    "\n",
    "# Input:- my_str = 'Peter Piper Picked A Peck Of Pickled Peppers.',\n",
    "# sub_str = 'Peck', new_str = 'Pack'\n",
    "# Output:- 'Peter Piper Picked A Pack Of Pickled Peppers.'\n",
    "\n",
    "\n",
    "my_str = 'Peter Piper Picked A Peck Of Pickled Peppers.'\n",
    "sub_str = 'Peck'\n",
    "new_str = 'Pack'\n",
    "my_str = my_str.replace(\"Peck\",\"Pack\")\n",
    "print(my_str)\n"
   ]
  },
  {
   "cell_type": "code",
   "execution_count": 35,
   "metadata": {},
   "outputs": [
    {
     "name": "stdout",
     "output_type": "stream",
     "text": [
      "*********************Peck*******************\n"
     ]
    }
   ],
   "source": [
    "\"\"\" Q. Write a python program to find below output (implements rjust and\n",
    "ljust) using loop:-\n",
    "Input:- 'Peter Piper Picked A Peck Of Pickled Peppers.', sub_str =\n",
    "'Peck',\n",
    "Output:- '*********************Peck********************' \"\"\"\n",
    "\n",
    "my_str = 'Peter Piper Picked A Peck Of Pickled Peppers.'\n",
    "sub_str = 'Peck'\n",
    "str_array = str.split(sub_str)\n",
    "strleft = str_array[0]\n",
    "strright = str_array[1]\n",
    "Rlenth = str_array[0].__len__()\n",
    "Llenth = str_array[1].__len__()\n",
    "str_right = (str_array[0].rjust(2*Rlenth,'*')).removesuffix(strleft)\n",
    "str_left = (str_array[1].ljust(2*Llenth,'*')).removeprefix(strright)\n",
    "str_output = str_right + \"Peck\" + str_left\n",
    "print(str_output)\n",
    "\n"
   ]
  },
  {
   "cell_type": "code",
   "execution_count": 39,
   "metadata": {},
   "outputs": [
    {
     "name": "stdout",
     "output_type": "stream",
     "text": [
      "['This', 'is', ' Python class']\n"
     ]
    }
   ],
   "source": [
    "\"\"\" Q. Write a python program to find below output using loop:-\n",
    "Input:- 'This is Python class', sep = ' is',\n",
    "Output:- ['This', 'is', 'Python class'] \"\"\"\n",
    "input = 'This is Python class'\n",
    "str_array = input.split(' is')\n",
    "output_list = []\n",
    "for item in str_array:\n",
    "    output_list.append(item)\n",
    "output_list.insert(output_list.index('This') + 1,'is')\n",
    "print(output_list)"
   ]
  }
 ],
 "metadata": {
  "kernelspec": {
   "display_name": "Python 3.10.4 64-bit",
   "language": "python",
   "name": "python3"
  },
  "language_info": {
   "codemirror_mode": {
    "name": "ipython",
    "version": 3
   },
   "file_extension": ".py",
   "mimetype": "text/x-python",
   "name": "python",
   "nbconvert_exporter": "python",
   "pygments_lexer": "ipython3",
   "version": "3.10.4"
  },
  "orig_nbformat": 4,
  "vscode": {
   "interpreter": {
    "hash": "949777d72b0d2535278d3dc13498b2535136f6dfe0678499012e853ee9abcab1"
   }
  }
 },
 "nbformat": 4,
 "nbformat_minor": 2
}
