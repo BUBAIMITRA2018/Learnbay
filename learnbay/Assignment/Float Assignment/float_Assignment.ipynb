{
 "cells": [
  {
   "cell_type": "code",
   "execution_count": 1,
   "metadata": {},
   "outputs": [
    {
     "name": "stdout",
     "output_type": "stream",
     "text": [
      "type is 4.5 and id is 139994574734032\n"
     ]
    }
   ],
   "source": [
    "\"\"\" Q. Declare a float value and store it in a variable.\n",
    "Check the type and print the id of the same. \"\"\"\n",
    "\n",
    "a = 4.5\n",
    "print(f\"type is {a} and id is {id(a)}\")"
   ]
  },
  {
   "cell_type": "code",
   "execution_count": 2,
   "metadata": {},
   "outputs": [
    {
     "name": "stdout",
     "output_type": "stream",
     "text": [
      "sum = 3.9, difference = -2.9,product = 1.7,divided = 0.14705882352941177,remainder = 0.14705882352941177,quotient = 0.0,pow =0.09473228540689989\n"
     ]
    }
   ],
   "source": [
    "\"\"\" Q. Arithmetic Operations on float\n",
    "Take two different float values.\n",
    "Store them in two different variables.\n",
    "Do below operations on them:- \"\"\"\n",
    "\n",
    "a = 0.5\n",
    "b = 3.4\n",
    "\n",
    "# Find sum of both numbers\n",
    "# Find difference between them\n",
    "# Find the product of both numbers.\n",
    "# Find value after dividing first num with second number\n",
    "# Find the remainder after dividing first number with second number\n",
    "# Find the quotient after dividing first number with second number\n",
    "# Find the result of the first num to the power of the second number.\n",
    "\n",
    "\n",
    "print(f\"sum = {a +b}, difference = {a - b},product = {a * b},divided = \\\n",
    "{a/b},remainder = {a/b},quotient = {a // b},pow ={pow(a, b)}\")"
   ]
  },
  {
   "cell_type": "code",
   "execution_count": 3,
   "metadata": {},
   "outputs": [
    {
     "name": "stdout",
     "output_type": "stream",
     "text": [
      "Greater than= False, Smaller than = True,Greater than or equal to = False,Less than or equal to = True\n"
     ]
    }
   ],
   "source": [
    "\"\"\" Q. Comparison Operators on float\n",
    "Take two different float values.\n",
    "Store them in two different variables.\n",
    "Do below operations on them:-\n",
    " Compare these two numbers with below operator:-\n",
    " Greater than, '>'\n",
    " Smaller than, '<'\n",
    " Greater than or equal to, '>='\n",
    " Less than or equal to, '<='\n",
    "Observe their output(return type should be boolean) \"\"\"\n",
    "\n",
    "a = 2.5\n",
    "b = 3.5\n",
    "\n",
    "\n",
    "print(f\"Greater than= {a > b}, Smaller than = {a < b},Greater than or equal to = {a >= b},Less than or equal to = \\\n",
    "{a <= b}\")"
   ]
  },
  {
   "cell_type": "code",
   "execution_count": 4,
   "metadata": {},
   "outputs": [
    {
     "name": "stdout",
     "output_type": "stream",
     "text": [
      "equality operators = False,not equality operators = True\n"
     ]
    }
   ],
   "source": [
    "\"\"\" Q. Equality Operator\n",
    "Take two different float values.\n",
    "Store them in two different variables.\n",
    "Equate them using equality operators (==, !=)\n",
    "Observe the output(return type should be boolean) \"\"\"\n",
    "\n",
    "a = 3.1\n",
    "b= 2.1\n",
    "\n",
    "print(f\"equality operators = {a == b},not equality operators = {a!= b}\")\n"
   ]
  },
  {
   "cell_type": "code",
   "execution_count": 5,
   "metadata": {},
   "outputs": [
    {
     "name": "stdout",
     "output_type": "stream",
     "text": [
      "20.3\n",
      "0.0\n",
      "0.0\n",
      "0.0\n",
      "10.2\n",
      "20.3\n",
      "20.3\n",
      "0.0\n",
      "False\n",
      "True\n"
     ]
    }
   ],
   "source": [
    "# Q. Logical operators\n",
    "# Observe the output of below code\n",
    "# Cross check the output manually\n",
    "print(10.20 and 20.30) #both are true and second value taken\n",
    "print(0.0 and 20.30) #First is false so first value\n",
    "print(20.30 and 0.0) #Goes to till second and second value is\n",
    "print(0.0 and 0.0) #First is false so first value is\n",
    "print(10.20 or 20.30) #First is True so first value is\n",
    "print(0.0 or 20.30) #Goes to till second and second is true\n",
    "print(20.30 or 0.0) #First is True so first value is\n",
    "print(0.0 or 0.0) #Goes to till second and second is also\n",
    "print(not 10.20) #-Not of true is false->Output is False\n",
    "print(not 0.0) #Not of false is True>Output is True"
   ]
  },
  {
   "cell_type": "code",
   "execution_count": 11,
   "metadata": {},
   "outputs": [
    {
     "name": "stdout",
     "output_type": "stream",
     "text": [
      "False\n",
      "True\n",
      "False\n",
      "139994574741008 139994574740848\n",
      "139994574746512\n",
      "139994574740784\n"
     ]
    }
   ],
   "source": [
    "\"\"\" Q. What is the output of expression inside print statement. Cross check\n",
    "before running the program.\n",
    "a = 10.20\n",
    "b - 10.20\n",
    "Why the Id of float values are different when the same value is\n",
    "assigned to two different variables\n",
    "ex: a = 10.5 b=10.5. but id will be same if I assign the variable\n",
    "having float i.e. a=c then both a and c's Id are same \"\"\"\n",
    "a = 10.20\n",
    "b = 10.20\n",
    "\n",
    "print(a is b) #True or False? True 10.20<256\n",
    "print(a is not b) #True or False? False\n",
    "\n",
    "print(id(a) == id(b))  #ID would be different\n",
    "print(id(a) , id(b))  #ID would be different\n",
    "\n",
    "# For from -5 through to 256 Python only creates one 1 integer object and re-uses it over and over again\n",
    "# this is not applicable for float.float is immutable."
   ]
  },
  {
   "cell_type": "code",
   "execution_count": 15,
   "metadata": {},
   "outputs": [
    {
     "name": "stdout",
     "output_type": "stream",
     "text": [
      "False\n",
      "True\n"
     ]
    }
   ],
   "source": [
    "# Q. Bitwise operation is not applicable between instances of float.\n",
    "# Why the Id of float values are different when the same value is\n",
    "# assigned to two different variables\n",
    "# ex: a = 10.5 b=10.5. but id will be same if I assign the variable\n",
    "# having float i.e. a=c then both a and c's Id are same\n",
    "# Object reusability concept is not applicable on float values.\n",
    "\n",
    "a = 10.5\n",
    "b = 10.5\n",
    "\n",
    "print(id(a) == id(b))\n",
    "\n",
    "# if do like that\n",
    "\n",
    "print(id(10.5) == id(10.5)) #Here gc will come into play\n"
   ]
  },
  {
   "cell_type": "code",
   "execution_count": 16,
   "metadata": {},
   "outputs": [
    {
     "name": "stdout",
     "output_type": "stream",
     "text": [
      "True\n",
      "True\n",
      "True\n",
      "True\n",
      "True\n",
      "True\n"
     ]
    }
   ],
   "source": [
    "# Q. Membership operation\n",
    "# in, not in are two membership operators and it returns boolean value\n",
    "print('2.7' in 'Python2.7.8') #True\n",
    "print(10.20 in [10,10.20,10+20j,'Python']) #True\n",
    "print(10.20 in (10,10.20,10+20j,'Python')) # True\n",
    "print(20.30 in {1,20.30,30+40j}) # True\n",
    "print(2.3 in {1:100, 2.3:200, 30+40j:300}) # True\n",
    "print(10 in range(20)) "
   ]
  }
 ],
 "metadata": {
  "kernelspec": {
   "display_name": "Python 3.10.4 64-bit",
   "language": "python",
   "name": "python3"
  },
  "language_info": {
   "codemirror_mode": {
    "name": "ipython",
    "version": 3
   },
   "file_extension": ".py",
   "mimetype": "text/x-python",
   "name": "python",
   "nbconvert_exporter": "python",
   "pygments_lexer": "ipython3",
   "version": "3.10.4"
  },
  "orig_nbformat": 4,
  "vscode": {
   "interpreter": {
    "hash": "949777d72b0d2535278d3dc13498b2535136f6dfe0678499012e853ee9abcab1"
   }
  }
 },
 "nbformat": 4,
 "nbformat_minor": 2
}
